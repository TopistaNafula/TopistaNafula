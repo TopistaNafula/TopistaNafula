{
 "cells": [
  {
   "cell_type": "code",
   "execution_count": 4,
   "metadata": {},
   "outputs": [],
   "source": [
    "#import arcgis\n",
    "#from arcgis.gis import GIS\n",
    "\n",
    "#gis = arcgis.gis.GIS(\"https://arcgis.com\", \"username", \"password")\n",
    "\n",
    "#survey_manager = arcgis.apps.survey123.SurveyManager(gis)"
   ]
  },
  {
   "cell_type": "code",
   "execution_count": 5,
   "metadata": {},
   "outputs": [],
   "source": [
    "import arcgis\n",
    "from arcgis.gis import GIS\n",
    "\n",
    "source = arcgis.gis.GIS(\"https://arcgis.com\", \"username\", \"password\")\n",
    "print(source)\n",
    "\n",
    "survey_manager = arcgis.apps.survey123.SurveyManager(source)"
   ]
  },
  {
   "cell_type": "code",
   "execution_count": 6,
   "metadata": {},
   "outputs": [
    {
     "name": "stdout",
     "output_type": "stream",
     "text": [
      "EngUser\n",
      "600jeffersoN1\n",
      "GIS @ https://gis.toledo.oh.gov/portal version:7.1\n"
     ]
    }
   ],
   "source": [
    "survey_form_item_id = \"9cda7897ffda4fcea9935b55bb3c9ac4\"\n",
    "\n",
    "source_Username = \"EngUser\"\n",
    "print(source_Username)\n",
    "source_Password = \"600jeffersoN1\"\n",
    "print(source_Password)\n",
    "target_Username = \"barasat@COTDOMAIN1\"\n",
    "target_Password = \"Toledo25\"\n",
    "\n",
    "target = GIS(\"https://gis.toledo.oh.gov/portal\",\"barasat@COTDOMAIN1\", \"Toledo25\")\n",
    "print(target)"
   ]
  },
  {
   "cell_type": "code",
   "execution_count": 7,
   "metadata": {},
   "outputs": [
    {
     "data": {
      "text/plain": [
       "[<Item title:\"Cloning Test_form\" type:Feature Layer Collection owner:EngUser>, <Item title:\"Cloning Test_form\" type:Feature Layer Collection owner:EngUser>, <Item title:\"Cloning Test\" type:Form owner:EngUser>]"
      ]
     },
     "execution_count": 7,
     "metadata": {},
     "output_type": "execute_result"
    }
   ],
   "source": [
    "# Identify the Form Item\n",
    "form_item = arcgis.gis.Item(source,survey_form_item_id)\n",
    "survey_form = [form_item]\n",
    "\n",
    "# For more information on the related_items function visit: https://developers.arcgis.com/python/api-reference/arcgis.gis.toc.html?#arcgis.gis.Item.related_items\n",
    "# Grab the Feature Service associated with the Survey\n",
    "related_items = form_item.related_items('Survey2Service','forward')\n",
    "\n",
    "# Grab the additional items that have a relationship with the Survey\n",
    "additional_items = form_item.related_items('Survey2Service','forward')\n",
    "\n",
    "# Merge the all related content into the same list\n",
    "all_items = related_items + additional_items + survey_form\n",
    "all_items"
   ]
  },
  {
   "cell_type": "code",
   "execution_count": 8,
   "metadata": {},
   "outputs": [
    {
     "name": "stdout",
     "output_type": "stream",
     "text": [
      "8827d39d879c47c79aa19e8703360c3d\n"
     ]
    }
   ],
   "source": [
    "\n",
    "# Grab a survey using the Item ID:\n",
    "survey_by_id = survey_manager.get(survey_form_item_id)\n",
    "\n",
    "# Grab the survey properties (for the folder ID): \n",
    "survey_folder = survey_by_id.properties['ownerFolder']\n",
    "print (survey_folder)"
   ]
  },
  {
   "cell_type": "code",
   "execution_count": 9,
   "metadata": {},
   "outputs": [
    {
     "name": "stdout",
     "output_type": "stream",
     "text": [
      "{'username': 'EngUser', 'id': '8827d39d879c47c79aa19e8703360c3d', 'title': 'Survey-Cloning Test', 'created': 1728662978000}\n"
     ]
    }
   ],
   "source": [
    "# Identify User Acccount\n",
    "usr = arcgis.gis.User(source,source_Username)\n",
    "# List all folders owned by the user\n",
    "full_folder = usr.folders\n",
    "\n",
    "# Identify the folder associated with the survey\n",
    "print([f for f in full_folder if f['id'] == survey_folder][0])\n",
    "fldr = next((f for f in full_folder if f['id'] == survey_folder), 0)"
   ]
  },
  {
   "cell_type": "code",
   "execution_count": 12,
   "metadata": {},
   "outputs": [
    {
     "name": "stdout",
     "output_type": "stream",
     "text": [
      "Folder already exists.\n"
     ]
    },
    {
     "ename": "Exception",
     "evalue": "Unable to delete item.\nUnable to delete item: https://gis.toledo.oh.gov/arcgis/rest/services/Hosted/survey123_f7f01/FeatureServer\n(Error Code: 500)",
     "output_type": "error",
     "traceback": [
      "\u001b[0;31m---------------------------------------------------------------------------\u001b[0m\n\u001b[0;31mException\u001b[0m                                 Traceback (most recent call last)",
      "In  \u001b[0;34m[12]\u001b[0m:\nLine \u001b[0;34m5\u001b[0m:     cloned_items = target.content.clone_items(items=all_items, folder=fldr[\u001b[33m'\u001b[39;49;00m\u001b[33mtitle\u001b[39;49;00m\u001b[33m'\u001b[39;49;00m])\n",
      "File \u001b[0;34mC:\\Program Files\\ArcGIS\\Pro\\bin\\Python\\envs\\arcgispro-py3\\lib\\site-packages\\arcgis\\gis\\__init__.py\u001b[0m, in \u001b[0;32mclone_items\u001b[0m:\nLine \u001b[0;34m7904\u001b[0m:  \u001b[34mreturn\u001b[39;49;00m deep_cloner.clone()\n",
      "File \u001b[0;34mC:\\Program Files\\ArcGIS\\Pro\\bin\\Python\\envs\\arcgispro-py3\\lib\\site-packages\\arcgis\\_impl\\common\\_clone.py\u001b[0m, in \u001b[0;32mclone\u001b[0m:\nLine \u001b[0;34m1218\u001b[0m:  results = executor.submit(\u001b[36mself\u001b[39;49;00m._clone, executor).result()\n",
      "File \u001b[0;34mC:\\Program Files\\ArcGIS\\Pro\\bin\\Python\\envs\\arcgispro-py3\\lib\\concurrent\\futures\\_base.py\u001b[0m, in \u001b[0;32mresult\u001b[0m:\nLine \u001b[0;34m446\u001b[0m:   \u001b[34mreturn\u001b[39;49;00m \u001b[36mself\u001b[39;49;00m.__get_result()\n",
      "File \u001b[0;34mC:\\Program Files\\ArcGIS\\Pro\\bin\\Python\\envs\\arcgispro-py3\\lib\\concurrent\\futures\\_base.py\u001b[0m, in \u001b[0;32m__get_result\u001b[0m:\nLine \u001b[0;34m391\u001b[0m:   \u001b[34mraise\u001b[39;49;00m \u001b[36mself\u001b[39;49;00m._exception\n",
      "File \u001b[0;34mC:\\Program Files\\ArcGIS\\Pro\\bin\\Python\\envs\\arcgispro-py3\\lib\\concurrent\\futures\\thread.py\u001b[0m, in \u001b[0;32mrun\u001b[0m:\nLine \u001b[0;34m58\u001b[0m:    result = \u001b[36mself\u001b[39;49;00m.fn(*\u001b[36mself\u001b[39;49;00m.args, **\u001b[36mself\u001b[39;49;00m.kwargs)\n",
      "File \u001b[0;34mC:\\Program Files\\ArcGIS\\Pro\\bin\\Python\\envs\\arcgispro-py3\\lib\\site-packages\\arcgis\\_impl\\common\\_clone.py\u001b[0m, in \u001b[0;32m_clone\u001b[0m:\nLine \u001b[0;34m1190\u001b[0m:  item.delete()\n",
      "File \u001b[0;34mC:\\Program Files\\ArcGIS\\Pro\\bin\\Python\\envs\\arcgispro-py3\\lib\\site-packages\\arcgis\\gis\\__init__.py\u001b[0m, in \u001b[0;32mdelete\u001b[0m:\nLine \u001b[0;34m13877\u001b[0m: \u001b[34mreturn\u001b[39;49;00m \u001b[36mself\u001b[39;49;00m._portal.delete_item(\u001b[36mself\u001b[39;49;00m.itemid, \u001b[36mself\u001b[39;49;00m._user_id, folder, force)\n",
      "File \u001b[0;34mC:\\Program Files\\ArcGIS\\Pro\\bin\\Python\\envs\\arcgispro-py3\\lib\\site-packages\\arcgis\\gis\\_impl\\_portalpy.py\u001b[0m, in \u001b[0;32mdelete_item\u001b[0m:\nLine \u001b[0;34m764\u001b[0m:   resp = \u001b[36mself\u001b[39;49;00m.con.post(path, post_data)\n",
      "File \u001b[0;34mC:\\Program Files\\ArcGIS\\Pro\\bin\\Python\\envs\\arcgispro-py3\\lib\\site-packages\\arcgis\\gis\\_impl\\_con\\_connection.py\u001b[0m, in \u001b[0;32mpost\u001b[0m:\nLine \u001b[0;34m1528\u001b[0m:  \u001b[34mreturn\u001b[39;49;00m \u001b[36mself\u001b[39;49;00m._handle_response(\n",
      "File \u001b[0;34mC:\\Program Files\\ArcGIS\\Pro\\bin\\Python\\envs\\arcgispro-py3\\lib\\site-packages\\arcgis\\gis\\_impl\\_con\\_connection.py\u001b[0m, in \u001b[0;32m_handle_response\u001b[0m:\nLine \u001b[0;34m1008\u001b[0m:  \u001b[36mself\u001b[39;49;00m._handle_json_error(data[\u001b[33m\"\u001b[39;49;00m\u001b[33merror\u001b[39;49;00m\u001b[33m\"\u001b[39;49;00m], errorcode)\n",
      "File \u001b[0;34mC:\\Program Files\\ArcGIS\\Pro\\bin\\Python\\envs\\arcgispro-py3\\lib\\site-packages\\arcgis\\gis\\_impl\\_con\\_connection.py\u001b[0m, in \u001b[0;32m_handle_json_error\u001b[0m:\nLine \u001b[0;34m1031\u001b[0m:  \u001b[34mraise\u001b[39;49;00m \u001b[36mException\u001b[39;49;00m(errormessage)\n",
      "\u001b[0;31mException\u001b[0m: Unable to delete item.\nUnable to delete item: https://gis.toledo.oh.gov/arcgis/rest/services/Hosted/survey123_f7f01/FeatureServer\n(Error Code: 500)\n\u001b[0;31m---------------------------------------------------------------------------\u001b[0m"
     ]
    }
   ],
   "source": [
    "# Create a new folder with the same name as the source folder to clone the contents to\n",
    "target.content.create_folder(folder=fldr['title'])\n",
    "\n",
    "# Clone contents to the new GIS\n",
    "cloned_items = target.content.clone_items(items=all_items, folder=fldr['title'])\n",
    "cloned_items"
   ]
  },
  {
   "cell_type": "code",
   "execution_count": null,
   "metadata": {},
   "outputs": [],
   "source": []
  }
 ],
 "metadata": {
  "kernelspec": {
   "display_name": "ArcGISPro",
   "language": "Python",
   "name": "python3"
  },
  "language_info": {
   "file_extension": ".py",
   "name": "python",
   "version": "3"
  }
 },
 "nbformat": 4,
 "nbformat_minor": 2
}
